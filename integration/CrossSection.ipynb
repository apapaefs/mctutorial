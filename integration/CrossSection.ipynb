{
 "cells": [
  {
   "cell_type": "markdown",
   "id": "e3fcbe44-e0da-4970-80a1-0462aeba64d9",
   "metadata": {},
   "source": [
    "# Integrating for the Cross Section\n",
    "\n",
    "Here, we will extend our Monte Carlo integration method to perform an integral to get the *cross section* for a specific process.\n",
    "\n",
    "Remember that the cross section is defined as (See Mark Thomson, page 70): \n",
    "\n",
    "$\\sigma=$ (number of particles per unit time per target particle)/(incident flux),\n",
    "\n",
    "and an expression for $2 \\rightarrow 2$ scattering was derived, in the center-of-mass (C.O.M.) frame: \n",
    "\n",
    "$\\sigma = \\frac{1}{64 \\pi^2 s}\\frac{p_f^*}{p_i^*} \\int |\\mathcal{M}_{fi}|^2 \\mathrm{d} \\Omega^*$,\n",
    "\n",
    "where the $*$ indicates that the quantities are defined in the C.O.M. frame, and $s$ is the Mandelstam variable. \n",
    "\n",
    "All the physics of the process is encapsulated in tha matrix element $\\mathcal{M}_{fi}$. The rest of the expression is related to the \"kinematics\" of the process, i.e. energy and momentum conservation. \n",
    "\n",
    "$\\frac{ \\mathrm{d}{\\sigma} } { \\mathrm{d} \\Omega^*}$ is known as a differential cross section, so in order to find the total cross section $\\sigma$, we need to perform an integral over the solid angle $\\Omega^*$. Recall that $\\mathrm{d} \\Omega^* = \\mathrm{d} \\phi^* \\mathrm{d} (\\cos \\theta^*)$ (i.e. the solid angle element is the angular part of the spherical polar coordinate volume element). \n",
    "\n",
    "Generally speaking, integrals over differential cross sections will be complicated multi-differential and multi-dimensional functions of several variables, and therefore the Monte Carlo technique is the ideal method for solving them. In the first example we will consider here, the cross section can also be calculated analytically. However, we are going to use this as a first step towards understanding Monte Carlo event generators. "
   ]
  },
  {
   "cell_type": "markdown",
   "id": "721053aa-a706-451f-9edd-f290a9d16c0c",
   "metadata": {},
   "source": [
    "# Example: Electron-positron annihilation into muon-antimuon \n",
    "\n",
    "The matrix element squared for the process $e^+e^- \\rightarrow \\mu^+ \\mu^-$, averaged over initial spins and summing over all possible final spins (i.e. we are assuming *unpolarized* beams and that we do not have access to the spin information of the muons), is given by:\n",
    "\n",
    "$\\left< |M_{fi}|^2 \\right> = e^4 ( 1 + \\cos^2 \\theta)$,\n",
    "\n",
    "where $e$ is the electron charge. (section 6.2.4 in M.T.)\n",
    "\n",
    "So the differential cross section for unpolarized $e^+e^- \\rightarrow \\mu^+ \\mu^-$ is given by:\n",
    "\n",
    "$\\frac{ \\mathrm{d}{\\sigma} } { \\mathrm{d} \\Omega} = \\frac{1}{64 \\pi^2 s} e^4 (1 + \\cos^2 \\theta)$.\n",
    "\n",
    "(dropped the stars since we are assuming that we are in the C.O.M. frame for the sake of simplicity)\n",
    "\n",
    "We can define $\\alpha = e^2/(4\\pi)$ as a dimensionless constant, to get:\n",
    "\n",
    "$\\frac{ \\mathrm{d}{\\sigma} } { \\mathrm{d} \\Omega} = \\frac{\\alpha^2}{4 s} e^4 (1 + \\cos^2 \\theta)$,\n",
    "\n",
    "and writing $\\mathrm{d} \\Omega = \\mathrm{d} \\phi \\mathrm{d} (\\cos \\theta)$:\n",
    "\n",
    "$\\frac{ \\mathrm{d}{\\sigma} } { \\mathrm{d} \\phi \\mathrm{d} (\\cos \\theta)} = \\frac{\\alpha^2}{4 s} e^4 (1 + \\cos^2 \\theta)$,\n",
    "\n"
   ]
  },
  {
   "cell_type": "markdown",
   "id": "0ce6eeb8-2373-4490-a635-565a90ed4968",
   "metadata": {},
   "source": [
    "## Exercise 1: Total $e^+e^- \\rightarrow \\mu^+ \\mu^-$ cross section analytically\n",
    "\n",
    "In this case it is very easy to calculate the total cross section by performing the integral analytically. Show that the total cross section can be written as: \n",
    "\n",
    "$\\sigma = \\frac{4 \\pi \\alpha^2}{3s}$\n",
    "\n",
    "Note that the conversion factor from GeV to pb is given by: $3.894 \\times 10^8 ~\\mathrm{pb/GeV}^{−2}$. "
   ]
  },
  {
   "cell_type": "markdown",
   "id": "f3230207-2005-45e9-87f8-40975da8d7a6",
   "metadata": {},
   "source": [
    "## Exercise 2: Write a Monte Carlo integration function that performs the integral numerically\n"
   ]
  },
  {
   "cell_type": "markdown",
   "id": "21393f64-03ea-4c7b-9371-cf8ff9754a6f",
   "metadata": {},
   "source": [
    "# Experimental luminosity and the number of events in data\n",
    "\n",
    "## Luminosity \n",
    "\n",
    "The center-of-mass energy of an accelerator is an important characteristic. Another crucial variable is the *instantaneous luminosity*, which determines the rates of events. For a *given process*, the number of interactions $N$ that will take place, is the product of the luminosity integrated over the lifetime of the operation of the machine, and the cross section for the process in question:\n",
    "\n",
    "$ N = \\sigma \\int \\mathcal{L} \\mathrm{d}t$,\n",
    "\n",
    "where $\\mathcal{L}(t)$ is known as the instantenous luminosity.\n",
    "\n",
    "We can also define the *integrated luminosity*, which represents the amount of data collected in a certain period of running the experiment as:\n",
    "\n",
    "$ L = \\int \\mathcal{L} \\mathrm{d}t$, \n",
    "\n",
    "and therefore, knowing the cross section $\\sigma$ for the process, and the integrated luminosity $L$, we can estiamte the number of events that will occur in a given process (or channel) by:\n",
    "\n",
    "$N = \\sigma L$.\n",
    "\n",
    "The typical unit of a cross section used in particle physics is the \"barn\", where $1~\\mathrm{b} = 10^{-28}~\\mathrm{m^2}$. Hence the integrated luminosity has units of inverse barn. \n",
    "\n",
    "## Exercise 3: Calculate the total number of Higgs boson events generated thus far in the LHC experiments.\n",
    "\n",
    "The LHC has collected over $L=600~\\mathrm{fb}^{-1}$ of data (see: https://home.cern/news/news/accelerators/accelerator-report-lhc-run-3-achieves-record-breaking-integrated-luminosity). The cross section for the production of a Higgs boson $pp \\rightarrow h$, is approximately $40~\\mathrm{pb}$. How many Higgs boson events have been generated in total? "
   ]
  },
  {
   "cell_type": "markdown",
   "id": "b086f660-8a54-409f-907f-6a339a06d59b",
   "metadata": {},
   "source": [
    "## 3.3 Calculate the number of $e^+e^- \\rightarrow \\mu^+ \\mu^-$ events in $L=1~\\mathrm{fb}^{-1}$ of data, generated at an LEP running at a center-of-mass energy of $\\sqrt{s} = 206~\\mathrm{GeV}$. You may use the value of $\\alpha = 1/132.507$."
   ]
  },
  {
   "cell_type": "code",
   "execution_count": null,
   "id": "94da7f3e-0c69-4ebc-89e4-51b8848dc509",
   "metadata": {},
   "outputs": [],
   "source": []
  }
 ],
 "metadata": {
  "kernelspec": {
   "display_name": "Python 3 (ipykernel)",
   "language": "python",
   "name": "python3"
  },
  "language_info": {
   "codemirror_mode": {
    "name": "ipython",
    "version": 3
   },
   "file_extension": ".py",
   "mimetype": "text/x-python",
   "name": "python",
   "nbconvert_exporter": "python",
   "pygments_lexer": "ipython3",
   "version": "3.12.2"
  }
 },
 "nbformat": 4,
 "nbformat_minor": 5
}
