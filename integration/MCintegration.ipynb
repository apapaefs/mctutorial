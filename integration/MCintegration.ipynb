{
 "cells": [
  {
   "cell_type": "markdown",
   "id": "123fbd0f-4828-46d5-b31c-28453b2944f6",
   "metadata": {
    "editable": true,
    "slideshow": {
     "slide_type": ""
    },
    "tags": []
   },
   "source": [
    "# Monte Carlo Integration\n",
    "\n",
    "Let's now proceed to Monte Carlo integration, the first step towards understanding Monte Carlo Event Generators. \n",
    "\n",
    "Monte Carlo integration is based on a very simple observation: the value of an integral can be recast as the average of the integrand:\n",
    "\n",
    "$I = \\int_{x_1}^{x_2} \\mathrm{d} x f(x) = (x_2 - x_1) \\left< f(x) \\right>$.\n",
    "\n",
    "This imlies that if we take some values of $x$, say $N$ of them, distributed uniformly inside the interval $(x_1, x_2)$, then the average of $f(x)$ over these values will be a good estimate of the integral, $I$. We can then write:\n",
    "\n",
    "$I \\approx (x_2 - x_1) \\frac{1}{N} \\sum_{i=1}^N f(x_i)$.\n",
    "\n",
    "We can draw the values of $x_i$ randomly: if $\\rho_i$ is a uniform random number in the interval $(0,1)$, then we have:\n",
    "\n",
    "$x_i = (x_2 - x_1) \\rho_i + x_1$.\n",
    "\n",
    "(Uniform random = with equal probability to lie anywhere within the given interval).\n",
    "\n",
    "We often also define the weight $W_i = (x_2 - x_1) f(x_i)$, and then the integral is simply the average of the weight: \n",
    "\n",
    "$I \\approx I_N = \\frac{1}{N} \\sum_{i=1}^N W_i$. \n",
    "\n",
    "One advantage of the Monte Carlo method for integration is that it is easy to estimate the statistical uncertainty of the calculation. If we define the *variance* $V_N \\equiv \\sigma^2$, where $\\sigma$ is the standard deviation of $f(x_i)$, then:\n",
    "\n",
    "$V_N = \\frac{1}{N} \\sum_i W_i^2 - \\left[ \\frac{1}{N} \\sum_i W_i\\right]^2$, \n",
    "\n",
    "from which we can deduce the error on the Monte Carlo estimate of the integral: \n",
    "\n",
    "$\\sigma_\\mathrm{MC} = \\sqrt{V_N/N}$.\n",
    "\n",
    "We finally arrive at the expression:\n",
    "\n",
    "$I \\approx I_N \\pm \\sqrt{V_N/N}$.\n",
    "\n",
    "Other advantages of the Monte Carlo method is that it converges fast in many dimensions, can be employed for arbitrarily complex integration regions. Note that in low dimensions, there are usually more efficient methods for integration, but in high dimensions, the Monte Carlo method is often the only feasible method. "
   ]
  },
  {
   "cell_type": "markdown",
   "id": "1ad10fa6-ea9f-49c5-9155-243714aefe39",
   "metadata": {},
   "source": [
    "Let's begin with an exercise! \n",
    "\n",
    "Integrate the function:\n",
    "\n",
    "$f(x) = \\sqrt{1 - x^2}$ in the interval $(-1,1)$. \n",
    "\n",
    "Don't forget to get an estimate of the error!"
   ]
  },
  {
   "cell_type": "code",
   "execution_count": null,
   "id": "9618a78e-3bda-4721-a3ad-2319ca9a5f51",
   "metadata": {},
   "outputs": [],
   "source": []
  }
 ],
 "metadata": {
  "kernelspec": {
   "display_name": "Python 3 (ipykernel)",
   "language": "python",
   "name": "python3"
  },
  "language_info": {
   "codemirror_mode": {
    "name": "ipython",
    "version": 3
   },
   "file_extension": ".py",
   "mimetype": "text/x-python",
   "name": "python",
   "nbconvert_exporter": "python",
   "pygments_lexer": "ipython3",
   "version": "3.12.2"
  }
 },
 "nbformat": 4,
 "nbformat_minor": 5
}
