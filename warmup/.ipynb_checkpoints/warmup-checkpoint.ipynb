{
 "cells": [
  {
   "cell_type": "markdown",
   "id": "21599fb3-326e-40ed-9a9b-5746acab3690",
   "metadata": {},
   "source": [
    "# Warmup\n",
    "\n",
    "To execute a \"cell\" of a Jupyter lab notebook, simple choose it and press SHIFT-ENTER!"
   ]
  },
  {
   "cell_type": "code",
   "execution_count": 23,
   "id": "6c3be9c2-6945-4d52-bc59-db54a6e551ec",
   "metadata": {},
   "outputs": [
    {
     "name": "stdout",
     "output_type": "stream",
     "text": [
      "Hello World!\n"
     ]
    }
   ],
   "source": [
    "# Let's start with a warmup: \n",
    "# Print out\"Hello World!\" to the screen.\n",
    "\n",
    "print('Hello World!')"
   ]
  },
  {
   "cell_type": "code",
   "execution_count": 24,
   "id": "56b97e46-1531-4530-a784-17e2158a470a",
   "metadata": {},
   "outputs": [
    {
     "name": "stdout",
     "output_type": "stream",
     "text": [
      "1.0\n"
     ]
    }
   ],
   "source": [
    "# Let's now import a module to handle math:\n",
    "import math\n",
    "\n",
    "# and print the sine of pi/2:\n",
    "x = math.sin(math.pi/2)\n",
    "print(x)"
   ]
  },
  {
   "cell_type": "code",
   "execution_count": 25,
   "id": "981acaa4-6b9f-4a42-bb92-08c7e401a3d2",
   "metadata": {},
   "outputs": [
    {
     "name": "stdout",
     "output_type": "stream",
     "text": [
      "0.0\n",
      "0.1645945902807339\n",
      "0.32469946920468346\n",
      "0.4759473930370735\n",
      "0.6142127126896678\n",
      "0.7357239106731316\n",
      "0.8371664782625285\n",
      "0.9157733266550574\n",
      "0.9694002659393304\n",
      "0.9965844930066698\n",
      "0.9965844930066698\n",
      "0.9694002659393304\n",
      "0.9157733266550575\n",
      "0.8371664782625288\n",
      "0.7357239106731317\n",
      "0.6142127126896679\n",
      "0.4759473930370737\n",
      "0.3246994692046836\n",
      "0.16459459028073403\n",
      "1.2246467991473532e-16\n"
     ]
    }
   ],
   "source": [
    "# Another useful module is \"NumPy\" -- i.e. numerical Python. Let's import that:\n",
    "import numpy as np\n",
    "\n",
    "# and then use it to create an array from 0 to pi:\n",
    "theta = np.linspace(0, math.pi, 20) # 20 is the number of intervals to split [0,2pi] in.\n",
    "\n",
    "# we can now \"loop\" over the theta array and print the sine of each value:\n",
    "for th in theta: # this creates a variable \"th\" which represents each element of theta\n",
    "    print(math.sin(th))\n",
    "\n"
   ]
  },
  {
   "cell_type": "code",
   "execution_count": 26,
   "id": "69ddf90b-0eac-46a6-b52c-dbe5708740d2",
   "metadata": {},
   "outputs": [
    {
     "name": "stdout",
     "output_type": "stream",
     "text": [
      "0.0\n",
      "0.1645945902807339\n",
      "0.32469946920468346\n",
      "0.4759473930370735\n",
      "0.6142127126896678\n",
      "0.7357239106731316\n",
      "0.8371664782625285\n",
      "0.9157733266550574\n",
      "0.9694002659393304\n",
      "0.9965844930066698\n",
      "0.9965844930066698\n",
      "0.9694002659393304\n",
      "0.9157733266550575\n",
      "0.8371664782625288\n",
      "0.7357239106731317\n",
      "0.6142127126896679\n",
      "0.4759473930370737\n",
      "0.3246994692046836\n",
      "0.16459459028073403\n",
      "1.2246467991473532e-16\n"
     ]
    }
   ],
   "source": [
    "# you can also use numpy directly to calculate create another array full of the sines of theta and then print that!\n",
    "sintheta = np.sin(theta)\n",
    "\n",
    "# now loop through sintheta and print:\n",
    "for sinth in sintheta:\n",
    "    print(sinth)\n"
   ]
  },
  {
   "cell_type": "markdown",
   "id": "872f56cc-25be-487f-af48-23e113a40f16",
   "metadata": {},
   "source": [
    "Let's try to implement the hit-or-miss Monte Carlo to calculate pi (circle in square!)\n",
    "\n",
    "Imagine putting a quarter circle of radius 1 inside a square in the way shown below: \n",
    "\n",
    "If we now pick random numbers *inside the square*, their probabiility of falling inside the quarter circle is equal to the area of the quarter circle, divided by the area of the square, i.e.:\n",
    "\n",
    "$\\mathcal{P}_\\mathrm{in circle} = \\pi/4$.\n",
    "\n",
    "We can exploit this to calculate $\\pi$, by simply throwing random points and counting the fraction of points inside and multipying by 4!"
   ]
  },
  {
   "cell_type": "code",
   "execution_count": 28,
   "id": "7ab88b24-f8f3-49e3-9d94-8efb3ed23c31",
   "metadata": {
    "jupyter": {
     "source_hidden": true
    }
   },
   "outputs": [
    {
     "data": {
      "image/png": "[encoded data removed]",
      "text/plain": [
       "<Figure size 640x480 with 1 Axes>"
      ]
     },
     "metadata": {},
     "output_type": "display_data"
    }
   ],
   "source": [
    "import matplotlib.pyplot as plt # import matplotlib, a conventional module name is plt\n",
    "import numpy as np\n",
    "\n",
    "# Now plot! Don't forget the different labels! \n",
    "fig, ax = plt.subplots() # create the elements required for matplotlib. This creates a figure containing a single axes.\n",
    "\n",
    "# set the labels and titles:\n",
    "ax.set_xlabel(r'$x$', fontsize=20) # set the x label\n",
    "ax.set_ylabel(r'$y$', fontsize=20) # set the y label. Note that the 'r' is necessary to remove the need for double slashes. You can use LaTeX! \n",
    "ax.set_title(r'Area of quadrant of cirlce vs. that of square of side 1', fontsize=10) # set the title \n",
    "\n",
    "# plot the circle\n",
    "circle1 = plt.Circle((0, 0), 1, color='r', alpha=0.2, ec='r', lw=5)\n",
    "ax.add_patch(circle1)\n",
    "\n",
    "# set the aspect ratio of the axes to 1:\n",
    "ax.set_aspect(1)\n",
    "\n",
    "plt.show() # show the plot here"
   ]
  },
  {
   "cell_type": "code",
   "execution_count": 30,
   "id": "d75a8c15-b9fb-4a1e-a769-2dbfa9cb6d35",
   "metadata": {},
   "outputs": [
    {
     "name": "stdout",
     "output_type": "stream",
     "text": [
      "0.781787951374423\n"
     ]
    }
   ],
   "source": [
    "import random # the python module for random numbers\n",
    "\n",
    "# random.random() shoots random numbers between zero and 1! \n",
    "print(random.random())"
   ]
  }
 ],
 "metadata": {
  "kernelspec": {
   "display_name": "Python 3 (ipykernel)",
   "language": "python",
   "name": "python3"
  },
  "language_info": {
   "codemirror_mode": {
    "name": "ipython",
    "version": 3
   },
   "file_extension": ".py",
   "mimetype": "text/x-python",
   "name": "python",
   "nbconvert_exporter": "python",
   "pygments_lexer": "ipython3",
   "version": "3.12.7"
  }
 },
 "nbformat": 4,
 "nbformat_minor": 5
}
