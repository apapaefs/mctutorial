{
 "cells": [
  {
   "cell_type": "markdown",
   "id": "d95174cd-cfba-4b25-9ecf-0d03680ddcd1",
   "metadata": {},
   "source": [
    "# A Monte Carlo Event Generator for $e^+ e^- \\rightarrow \\mu^+ \\mu^-$\n",
    "\n",
    "The differential cross section for the process $e^+ e^- \\rightarrow \\gamma \\rightarrow \\mu^+ \\mu^-$ is given by: \n",
    "\n",
    "$\\frac{\\mathrm{d}\\sigma}{\\mathrm{d} \\Omega} = \\frac{ \\alpha^2 } { 4s} (1+ \\cos^2\\theta)$,\n",
    "\n",
    "where $\\alpha = e^2/(4\\pi)$ is the QED running coupling. \n",
    "\n",
    "Since the expression does not depend on the angle $\\phi$, we may integrate over it, introducing a multiplicative factor of $2\\pi$ on the right-hand side. \n",
    "\n",
    "The integration to obtain the cross section is in fact trivial, since we know how to integrate cosine functions analytically, and the $e^+ e^-$ center-of-mass energy squared, $s$  is fixed. The total cross section in this case is given by: \n",
    "\n",
    "$\\sigma = \\frac{ 4 \\pi \\alpha^2 } { 3 s}$.\n",
    "\n",
    "As a reminder, the conversion factor from GeV to pb is given by: $3.894 \\times 10^8 ~\\mathrm{pb/GeV}^{−2}$. \n",
    "\n",
    "Despite the fact that this exaple is rather easy to handle analytically, we wish begin our venture into event generation with this simple exercise, as it provides an insight to the basic building blocks of an event generator. \n",
    "\n",
    "Let's first calculate the *total cross section* analytically, using the integration routines that we have developed thus far. \n",
    "\n",
    "import Let's start by copying the MC integration routine, which also finds the maximum. "
   ]
  },
  {
   "cell_type": "code",
   "execution_count": 10,
   "id": "16847680-f7bf-4ddf-8758-c8785f2ceff3",
   "metadata": {},
   "outputs": [],
   "source": [
    "import random\n",
    "import math\n",
    "\n",
    "# Let's define a function that performs one-dimensional MC integration of an arbitrary for N points\n",
    "# We'll also make it capable of performing the integration in an interval a,b\n",
    "def mcint(func, a, b, N):\n",
    "    \"\"\"Calculates the one-dimensional Monte Carlo integral of func in [a,b] for N points\"\"\"\n",
    "    sumw = 0 # we will use this variable for the sum of f(x_i)\n",
    "    sumwsq = 0 # and this one for the sum of f(x_i)^2, used in the error calculation\n",
    "    maxw = -1E99 # the maximum weight found during the integration\n",
    "    xmaxw = -1E99 # the location of the maximum weight \n",
    "    for i in range(int(N)):\n",
    "        xi = (b-a) * random.random() + a\n",
    "        wi = (b-a)*func(xi)\n",
    "        sumw += wi\n",
    "        sumwsq += wi**2 \n",
    "        if wi > maxw:\n",
    "            maxw = wi\n",
    "            xmaxw = xi\n",
    "    # now calculate the average value of f (i.e. the integral):\n",
    "    I = sumw/N\n",
    "    # and the error: \n",
    "    sigmaIsq = (1/N) * ( (1/N) * sumwsq - I**2 ) # this is the variance (i.e. the error squared)\n",
    "    sigmaI = math.sqrt(sigmaIsq) # this is the actual error\n",
    "    return I, sigmaI, maxw, xmaxw # return the integral and its error and the maximum weight and its location"
   ]
  },
  {
   "cell_type": "markdown",
   "id": "0ed544c0-2105-488d-92f7-3feacabca32a",
   "metadata": {},
   "source": [
    "Let's define the function we wish to integrate, i.e. the differential cross section: "
   ]
  },
  {
   "cell_type": "code",
   "execution_count": 21,
   "id": "4f059642-0866-448d-8be3-e75835232b3b",
   "metadata": {},
   "outputs": [],
   "source": [
    "# conversion factor from GeV^-2 to pb:\n",
    "pbconvert=3.894E8\n",
    "# this is the QED running coupling at 90 GeV:\n",
    "alpha = 1/132.507 \n",
    "\n",
    "# Now let's also define the function that we wish to integrate:\n",
    "def f(x,s=30**2): # x = costheta, and set the COM energy to 90 GeV\n",
    "    return 2*math.pi*((alpha**2)/(4 * s))*(1+x**2)"
   ]
  },
  {
   "cell_type": "markdown",
   "id": "9ebc8efb-03ca-4b9a-b910-c067e9cb0b84",
   "metadata": {},
   "source": [
    "And integrate! "
   ]
  },
  {
   "cell_type": "code",
   "execution_count": 40,
   "id": "54afc1f1-47b9-4db4-bf8c-4446f872b87a",
   "metadata": {},
   "outputs": [
    {
     "name": "stdout",
     "output_type": "stream",
     "text": [
      "The cross section in pb is: 103.24263338502944 +- 0.07303544997611591\n",
      "Maximum weight found= 3.9760947819673196e-07 at 0.9999931214287898\n"
     ]
    }
   ],
   "source": [
    "# fix the COM energy globally\n",
    "ECM = 30 # in GeV\n",
    "s=ECM**2\n",
    "\n",
    "# Use the function again to get the integral and the maximum weight: \n",
    "N = 100000 # with 10000 points we expect O(1/sqrt(N)) ~ O(1%) error\n",
    "Int, Err, MaxW, xMaxW = mcint(f,-1,1,N) # this way you can access both the integral and its error\n",
    "print('The cross section in pb is:', Int*pbconvert, '+-', Err*pbconvert)\n",
    "print('Maximum weight found=', MaxW, 'at', xMaxW)"
   ]
  },
  {
   "cell_type": "markdown",
   "id": "ffb5dfce-2077-4c1c-be27-7fb077a459ff",
   "metadata": {},
   "source": [
    "Let's also calculate the analytical expectation for the total cross section:"
   ]
  },
  {
   "cell_type": "code",
   "execution_count": 41,
   "id": "1158945b-84c2-4616-8df1-41ab7069e921",
   "metadata": {},
   "outputs": [
    {
     "name": "stdout",
     "output_type": "stream",
     "text": [
      "The analytical cross sectin for e+e- -> gamma -> mu+mu- at 30 GeV is 103.22013054444798\n"
     ]
    }
   ],
   "source": [
    "# analytical expression for the cross section for e+e- -> gamma -> mu+mu-\n",
    "def sigma_analytical():\n",
    "    return 4 * math.pi * alpha**2 / 3 / s \n",
    "\n",
    "sigma_analyt = sigma_analytical() \n",
    "sigma_analytical_pb = sigma_analyt*pbconvert\n",
    "print(\"The analytical cross sectin for e+e- -> gamma -> mu+mu- at 30 GeV is\", sigma_analytical_pb)"
   ]
  },
  {
   "cell_type": "markdown",
   "id": "d325428c-f933-4904-9532-ab82dcd4ee8e",
   "metadata": {},
   "source": [
    "Evidently these two are compatible! \n",
    "\n",
    "We are now ready to proceed to the event generation stage. This will consist simply of generating the $\\cos \\theta$ values and then \"reconstructing\" the momenta according to those values, for each event. The angle $\\phi$ can be chosen uniformly and randomly in the interval $(0,2 \\pi$). Let's start by generating a list of $\\cos \\theta$, distributed according to our differential cross section. This list is essentially the list of events. \n",
    "\n",
    "Let's use the ```evtgen``` function from the introduction to this section! "
   ]
  },
  {
   "cell_type": "code",
   "execution_count": 42,
   "id": "2c7f756e-34c6-4521-a9e2-d79d0cffa8c2",
   "metadata": {},
   "outputs": [],
   "source": [
    "# event generation function according to func, given the number of events to be generated Ngen in the interval a, b,\n",
    "# and number of integration events Nint\n",
    "def evtgen(func, a, b, Ngen, Nint):\n",
    "    # first find the integral using the integration function: \n",
    "    Int, Err, wmax, xwmax = mcint(func,a,b,Nint) \n",
    "    # define a counter to check when to terminate the event generation:\n",
    "    counter = 0\n",
    "    # an empty list to hold the Ngen events\n",
    "    eventslist = []\n",
    "    while counter < Ngen:\n",
    "        # get a random point and calculate its weight: \n",
    "        xi = (b-a) * random.random() + a\n",
    "        wi = (b-a)*func(xi)\n",
    "        if wi/wmax > random.random():\n",
    "            # accept the event, increment counter\n",
    "            eventslist.append(xi)    \n",
    "            counter += 1\n",
    "        else:\n",
    "            # reject the event and check another one\n",
    "            continue \n",
    "    # return the integral, the eror and the events list\n",
    "    return Int, Err, eventslist"
   ]
  },
  {
   "cell_type": "code",
   "execution_count": 43,
   "id": "397e1183-b703-4d06-8201-59b1372688f3",
   "metadata": {},
   "outputs": [
    {
     "name": "stdout",
     "output_type": "stream",
     "text": [
      "Number of events generated= 10000\n"
     ]
    }
   ],
   "source": [
    "# integral number of points:\n",
    "Nintegral = 100000\n",
    "# number of events to be generated: \n",
    "Nevents = 10000\n",
    "sigma, sigmaerr, events = evtgen(f,-1,1,Nevents,Nintegral)\n",
    "\n",
    "# check that the number of events generated is as requested:\n",
    "print('Number of events generated=', len(events))"
   ]
  },
  {
   "cell_type": "markdown",
   "id": "8b644532-fb7c-4536-9887-b444d79a493a",
   "metadata": {},
   "source": [
    "Let's check whether it corresponds to what we expect! In this case we actually can also plot the analytical form, as we did in the introduction. "
   ]
  },
  {
   "cell_type": "code",
   "execution_count": 44,
   "id": "a674e028-5a54-46c5-bda9-f280cd548c04",
   "metadata": {},
   "outputs": [
    {
     "data": {
      "image/png": "[encoded data removed]",
      "text/plain": [
       "<Figure size 640x480 with 1 Axes>"
      ]
     },
     "metadata": {},
     "output_type": "display_data"
    }
   ],
   "source": [
    "import matplotlib.pyplot as plt # import matplotlib, a conventional module name is plt\n",
    "import numpy as np\n",
    "\n",
    "fig, ax = plt.subplots() # create the elements required for matplotlib. This creates a figure containing a single axes.\n",
    "\n",
    "# set the labels and titles:\n",
    "ax.set_xlabel(r'$\\cos\\theta$', fontsize=20) # set the x label\n",
    "ax.set_ylabel(r'frequency', fontsize=20) # set the y label\n",
    "ax.set_title(r'Differential cross section for $e^+ e^- \\rightarrow \\gamma \\rightarrow \\mu^+ \\mu^-$', fontsize=10) # set the title \n",
    "\n",
    "# make one-dimensional plots using the above arrays, add a custom label, linestyles and colors:\n",
    "ax.hist(events, color='blue', bins=25, density=True, fill=False, histtype='step', label=\"hit-or-miss\") \n",
    "\n",
    "# plot the distribution itself:\n",
    "xv = np.linspace(-1, 1,1000)\n",
    "analytic = f(xv) / sigma_analyt# pi/2 is the analytic integral \n",
    "\n",
    "ax.plot(xv, analytic, ls='--', color='red', label='analytic')\n",
    "\n",
    "# construct the legend:\n",
    "ax.legend(loc='upper right')  # Add a legend\n",
    "\n",
    "plt.show() # show the plot here"
   ]
  },
  {
   "cell_type": "markdown",
   "id": "c730c56d-d69c-42ef-9215-5bd5e978b97f",
   "metadata": {},
   "source": [
    "Therefore, our events have indeed the right distribution: they follow the differential cross section, as expected! \n",
    "\n",
    "Let's now proceed to set up the momenta of the particles in each event. This is relatively easy in this case, since we are actually working directly in the center of mass frame. \n",
    "\n",
    "If we assume that the incoming beans are traveling in the positive and negative $z$-directions, e.g. $e^-$ in the positive and $e^+$ in the negative, then the incoming particle four-momenta can be written as: \n",
    "\n",
    "$p_{e^-} = \\frac{\\sqrt{s}}{2} ( 1, 0, 0, 1)$,\n",
    "\n",
    "$p_{e^+} = \\frac{\\sqrt{s}}{2} ( 1, 0, 0, -1)$,\n",
    "\n",
    "and the outgoing four-momenta according to the generated $(\\theta, \\phi)$:\n",
    "\n",
    "$p_{\\mu^-} = \\frac{\\sqrt{s}}{2} ( 1, \\sin \\theta \\cos \\phi, \\sin \\theta \\sin\\phi, \\cos\\theta)$, \n",
    "\n",
    "$p_{\\mu^+} = \\frac{\\sqrt{s}}{2} ( 1, -\\sin \\theta \\cos \\phi, -\\sin \\theta \\sin\\phi, -\\cos\\theta)$,\n",
    "\n",
    "where one can clearly observe that energy and momentum are conserved. "
   ]
  },
  {
   "cell_type": "markdown",
   "id": "351a5a52-60ed-464a-a30d-52154a778839",
   "metadata": {},
   "source": [
    "Let's now \"reconstruct\" (i.e. build) the four-vectors in each event according to the list of $\\cos \\theta$ that we have generated. "
   ]
  },
  {
   "cell_type": "code",
   "execution_count": 49,
   "id": "6fbef468-5f30-48f7-ba88-ae32d8f6a2bc",
   "metadata": {},
   "outputs": [],
   "source": [
    "# takes a list of cos thetas and reconstructs the four-momenta\n",
    "# for the process e- e+ -> mu- mu+ in the COM\n",
    "# returns a list of four-vectors, where a four-vector is a list of four numbers\n",
    "def reconstruct(costhetas):\n",
    "    recoevents = []\n",
    "    sqrtso2 = math.sqrt(s)/2 # appears often so no need to recalc.\n",
    "    for costh in costhetas:\n",
    "        # generate a random phi:\n",
    "        phi = random.random()*2*math.pi\n",
    "        # get sintheta as well:\n",
    "        sinth = math.sqrt(1-costh**2)\n",
    "        pem = [sqrtso2, 0, 0, sqrtso2]\n",
    "        pep = [sqrtso2, 0, 0, -sqrtso2]\n",
    "        pmm = [sqrtso2, sqrtso2*sinth * math.cos(phi), sqrtso2*sinth * math.sin(phi), sqrtso2*costh]\n",
    "        pmp = [sqrtso2, -sqrtso2*sinth * math.cos(phi), -sqrtso2*sinth * math.sin(phi), sqrtso2*costh]\n",
    "        recoevents.append([pem, pep, pmm, pmp])\n",
    "    return recoevents\n",
    "\n",
    "# get the reconstructed events: \n",
    "reconstructed_events = reconstruct(events)\n",
    "    "
   ]
  },
  {
   "cell_type": "markdown",
   "id": "d443eb0c-51ef-4edc-9962-b4d1e173458c",
   "metadata": {},
   "source": [
    "Let's see an example of an event, e.g. the first one:"
   ]
  },
  {
   "cell_type": "code",
   "execution_count": 50,
   "id": "8c47e82a-18b4-4e32-8246-dcfe5a20c1e6",
   "metadata": {},
   "outputs": [
    {
     "name": "stdout",
     "output_type": "stream",
     "text": [
      "p= [15.0, 0, 0, 15.0]\n",
      "p= [15.0, 0, 0, -15.0]\n",
      "p= [15.0, -3.7595365564146843, -3.12158419981338, -14.181734624666232]\n",
      "p= [15.0, 3.7595365564146843, 3.12158419981338, -14.181734624666232]\n"
     ]
    }
   ],
   "source": [
    "for p in reconstructed_events[0]:\n",
    "    print('p=',p)"
   ]
  },
  {
   "cell_type": "markdown",
   "id": "1ab46a71-25eb-4df4-85d1-99a170d3d4c1",
   "metadata": {},
   "source": [
    "Seems pretty reasonable! \n",
    "\n",
    "Since there is effectively only one degree of freedom, there's not many variables that are interesting in this simple case. We can imagine reconstructing the ``transverse momentum'', the magnitude of the momentum in the $x$ and $y$ directions, defined as:\n",
    "\n",
    "$p_T = \\sqrt{p_x^2 + p_y^2}$ \n",
    "\n",
    "Let's calculate this per event for the outgoing $\\mu^-$ and plot it! "
   ]
  },
  {
   "cell_type": "code",
   "execution_count": 51,
   "id": "2feedd5e-df77-4863-ae0b-326e9e94590e",
   "metadata": {},
   "outputs": [
    {
     "data": {
      "image/png": "[encoded data removed]",
      "text/plain": [
       "<Figure size 640x480 with 1 Axes>"
      ]
     },
     "metadata": {},
     "output_type": "display_data"
    }
   ],
   "source": [
    "pT_list = [] # the list that will contain all the transverse momenta\n",
    "for ev in reconstructed_events:\n",
    "    pmm = ev[2] # the mu- is the third entry in the event in this case\n",
    "    pT = math.sqrt(pmm[1]**2 + pmm[2]**2)\n",
    "    pT_list.append(pT)\n",
    "\n",
    "# PLOT! \n",
    "fig, ax = plt.subplots() # create the elements required for matplotlib. This creates a figure containing a single axes.\n",
    "\n",
    "# set the labels and titles:\n",
    "ax.set_xlabel(r'$p_T$', fontsize=20) # set the x label\n",
    "ax.set_ylabel(r'frequency', fontsize=20) # set the y label\n",
    "ax.set_title(r'Transverse momentum of the muon in $e^+ e^- \\rightarrow \\gamma \\rightarrow \\mu^+ \\mu^-$', fontsize=10) # set the title \n",
    "\n",
    "# make one-dimensional plots using the above arrays, add a custom label, linestyles and colors:\n",
    "ax.hist(pT_list, color='blue', bins=25, density=True, fill=False, histtype='step', label=\"hit-or-miss\") \n",
    "\n",
    "# construct the legend:\n",
    "ax.legend(loc='upper right')  # Add a legend\n",
    "\n",
    "plt.show() # show the plot here"
   ]
  },
  {
   "cell_type": "markdown",
   "id": "006f868b-821c-4b3d-a51a-53af0b197c44",
   "metadata": {},
   "source": [
    "An interesting next step is to consider the full process for $e^+ e^- \\rightarrow \\mu^+ \\mu^-$, which includes a contribution from the $Z$ boson. The main difference in the way that the $Z$ boson interacts with the leptons is that it couples with different strengths to the left- and right-handed fermions. \n",
    "\n",
    "See the details discussed in secton 3.1.2 of https://arxiv.org/pdf/1412.4677. Following these, you should be able to address section 3.2, Exercise 1. "
   ]
  },
  {
   "cell_type": "code",
   "execution_count": null,
   "id": "5995bc1f-52f8-4291-a9d9-c1580c510e36",
   "metadata": {},
   "outputs": [],
   "source": []
  }
 ],
 "metadata": {
  "kernelspec": {
   "display_name": "Python 3 (ipykernel)",
   "language": "python",
   "name": "python3"
  },
  "language_info": {
   "codemirror_mode": {
    "name": "ipython",
    "version": 3
   },
   "file_extension": ".py",
   "mimetype": "text/x-python",
   "name": "python",
   "nbconvert_exporter": "python",
   "pygments_lexer": "ipython3",
   "version": "3.12.2"
  }
 },
 "nbformat": 4,
 "nbformat_minor": 5
}
